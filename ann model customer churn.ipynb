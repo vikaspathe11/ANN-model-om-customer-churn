{
 "cells": [
  {
   "cell_type": "code",
   "execution_count": 2,
   "metadata": {},
   "outputs": [],
   "source": [
    "#importing library\n",
    "import numpy as np\n",
    "import pandas as pd\n",
    "import tensorflow as tf"
   ]
  },
  {
   "cell_type": "code",
   "execution_count": 3,
   "metadata": {},
   "outputs": [
    {
     "data": {
      "text/plain": [
       "'2.3.0'"
      ]
     },
     "execution_count": 3,
     "metadata": {},
     "output_type": "execute_result"
    }
   ],
   "source": [
    "tf.__version__"
   ]
  },
  {
   "cell_type": "code",
   "execution_count": 4,
   "metadata": {},
   "outputs": [],
   "source": [
    "#import data set\n",
    "dataset = pd.read_csv('C:/Users/CDR Lab/Downloads/Churn_Modelling.csv')\n",
    "X = dataset.iloc[:, 3:-1].values\n",
    "y = dataset.iloc[:, -1].values"
   ]
  },
  {
   "cell_type": "code",
   "execution_count": 5,
   "metadata": {},
   "outputs": [
    {
     "name": "stdout",
     "output_type": "stream",
     "text": [
      "[[619 'France' 'Female' ... 1 1 101348.88]\n",
      " [608 'Spain' 'Female' ... 0 1 112542.58]\n",
      " [502 'France' 'Female' ... 1 0 113931.57]\n",
      " ...\n",
      " [709 'France' 'Female' ... 0 1 42085.58]\n",
      " [772 'Germany' 'Male' ... 1 0 92888.52]\n",
      " [792 'France' 'Female' ... 1 0 38190.78]]\n"
     ]
    }
   ],
   "source": [
    "print(X)"
   ]
  },
  {
   "cell_type": "code",
   "execution_count": 6,
   "metadata": {},
   "outputs": [
    {
     "name": "stdout",
     "output_type": "stream",
     "text": [
      "[1 0 1 ... 1 1 0]\n"
     ]
    }
   ],
   "source": [
    "print(y)"
   ]
  },
  {
   "cell_type": "code",
   "execution_count": 7,
   "metadata": {},
   "outputs": [],
   "source": [
    "#label encoding gender column\n",
    "from sklearn.preprocessing import LabelEncoder\n",
    "le = LabelEncoder()\n",
    "X[:, 2] = le.fit_transform(X[:, 2])"
   ]
  },
  {
   "cell_type": "code",
   "execution_count": 8,
   "metadata": {},
   "outputs": [
    {
     "name": "stdout",
     "output_type": "stream",
     "text": [
      "[[619 'France' 0 ... 1 1 101348.88]\n",
      " [608 'Spain' 0 ... 0 1 112542.58]\n",
      " [502 'France' 0 ... 1 0 113931.57]\n",
      " ...\n",
      " [709 'France' 0 ... 0 1 42085.58]\n",
      " [772 'Germany' 1 ... 1 0 92888.52]\n",
      " [792 'France' 0 ... 1 0 38190.78]]\n"
     ]
    }
   ],
   "source": [
    "print(X)"
   ]
  },
  {
   "cell_type": "code",
   "execution_count": 9,
   "metadata": {},
   "outputs": [],
   "source": [
    "#one hot encoding the geography column\n",
    "from sklearn.compose import ColumnTransformer\n",
    "from sklearn.preprocessing import OneHotEncoder\n",
    "ct = ColumnTransformer(transformers=[('encoder', OneHotEncoder(), [1])], remainder='passthrough')\n",
    "X = np.array(ct.fit_transform(X))"
   ]
  },
  {
   "cell_type": "code",
   "execution_count": 10,
   "metadata": {},
   "outputs": [
    {
     "name": "stdout",
     "output_type": "stream",
     "text": [
      "[[1.0 0.0 0.0 ... 1 1 101348.88]\n",
      " [0.0 0.0 1.0 ... 0 1 112542.58]\n",
      " [1.0 0.0 0.0 ... 1 0 113931.57]\n",
      " ...\n",
      " [1.0 0.0 0.0 ... 0 1 42085.58]\n",
      " [0.0 1.0 0.0 ... 1 0 92888.52]\n",
      " [1.0 0.0 0.0 ... 1 0 38190.78]]\n"
     ]
    }
   ],
   "source": [
    "print(X)"
   ]
  },
  {
   "cell_type": "code",
   "execution_count": 11,
   "metadata": {},
   "outputs": [],
   "source": [
    "#Spliting into training and testing\n",
    "from sklearn.model_selection import train_test_split\n",
    "X_train, X_test, y_train, y_test = train_test_split(X, y, test_size = 0.2, random_state = 0)"
   ]
  },
  {
   "cell_type": "code",
   "execution_count": 12,
   "metadata": {},
   "outputs": [],
   "source": [
    "#feature scaling\n",
    "from sklearn.preprocessing import StandardScaler\n",
    "sc = StandardScaler()\n",
    "X_train = sc.fit_transform(X_train)\n",
    "X_test = sc.transform(X_test)"
   ]
  },
  {
   "cell_type": "code",
   "execution_count": 13,
   "metadata": {},
   "outputs": [],
   "source": [
    "#builing the ann model \n",
    "#initialize\n",
    "ann = tf.keras.models.Sequential()"
   ]
  },
  {
   "cell_type": "code",
   "execution_count": 14,
   "metadata": {},
   "outputs": [],
   "source": [
    "#input layer\n",
    "ann.add(tf.keras.layers.Dense(units=6, activation='relu'))"
   ]
  },
  {
   "cell_type": "code",
   "execution_count": 15,
   "metadata": {},
   "outputs": [],
   "source": [
    "#hidden layer\n",
    "ann.add(tf.keras.layers.Dense(units=6, activation='relu'))"
   ]
  },
  {
   "cell_type": "code",
   "execution_count": 16,
   "metadata": {},
   "outputs": [],
   "source": [
    "#output layer\n",
    "ann.add(tf.keras.layers.Dense(units=1, activation='sigmoid'))"
   ]
  },
  {
   "cell_type": "code",
   "execution_count": 17,
   "metadata": {},
   "outputs": [],
   "source": [
    "#compiling ann\n",
    "ann.compile(optimizer = 'adam', loss = 'binary_crossentropy', metrics = ['accuracy'])"
   ]
  },
  {
   "cell_type": "code",
   "execution_count": 19,
   "metadata": {},
   "outputs": [
    {
     "name": "stdout",
     "output_type": "stream",
     "text": [
      "Epoch 1/50\n",
      "250/250 [==============================] - 0s 927us/step - loss: 0.6474 - accuracy: 0.6741\n",
      "Epoch 2/50\n",
      "250/250 [==============================] - 0s 871us/step - loss: 0.4920 - accuracy: 0.7955\n",
      "Epoch 3/50\n",
      "250/250 [==============================] - 0s 815us/step - loss: 0.4488 - accuracy: 0.8060\n",
      "Epoch 4/50\n",
      "250/250 [==============================] - 0s 808us/step - loss: 0.4287 - accuracy: 0.8100\n",
      "Epoch 5/50\n",
      "250/250 [==============================] - 0s 764us/step - loss: 0.4149 - accuracy: 0.8184\n",
      "Epoch 6/50\n",
      "250/250 [==============================] - 0s 872us/step - loss: 0.4019 - accuracy: 0.8294\n",
      "Epoch 7/50\n",
      "250/250 [==============================] - 0s 871us/step - loss: 0.3894 - accuracy: 0.8378\n",
      "Epoch 8/50\n",
      "250/250 [==============================] - 0s 883us/step - loss: 0.3778 - accuracy: 0.8455\n",
      "Epoch 9/50\n",
      "250/250 [==============================] - 0s 867us/step - loss: 0.3680 - accuracy: 0.8485\n",
      "Epoch 10/50\n",
      "250/250 [==============================] - 0s 1ms/step - loss: 0.3621 - accuracy: 0.8515\n",
      "Epoch 11/50\n",
      "250/250 [==============================] - 0s 1ms/step - loss: 0.3574 - accuracy: 0.8522\n",
      "Epoch 12/50\n",
      "250/250 [==============================] - 0s 963us/step - loss: 0.3546 - accuracy: 0.8537\n",
      "Epoch 13/50\n",
      "250/250 [==============================] - 0s 1ms/step - loss: 0.3522 - accuracy: 0.8534\n",
      "Epoch 14/50\n",
      "250/250 [==============================] - 0s 1ms/step - loss: 0.3508 - accuracy: 0.8553\n",
      "Epoch 15/50\n",
      "250/250 [==============================] - 0s 951us/step - loss: 0.3499 - accuracy: 0.8549\n",
      "Epoch 16/50\n",
      "250/250 [==============================] - 0s 959us/step - loss: 0.3485 - accuracy: 0.8562\n",
      "Epoch 17/50\n",
      "250/250 [==============================] - 0s 959us/step - loss: 0.3477 - accuracy: 0.8571\n",
      "Epoch 18/50\n",
      "250/250 [==============================] - 0s 796us/step - loss: 0.3472 - accuracy: 0.8565\n",
      "Epoch 19/50\n",
      "250/250 [==============================] - 0s 863us/step - loss: 0.3461 - accuracy: 0.8580\n",
      "Epoch 20/50\n",
      "250/250 [==============================] - 0s 804us/step - loss: 0.3455 - accuracy: 0.8584\n",
      "Epoch 21/50\n",
      "250/250 [==============================] - 0s 915us/step - loss: 0.3446 - accuracy: 0.8590\n",
      "Epoch 22/50\n",
      "250/250 [==============================] - 0s 1ms/step - loss: 0.3441 - accuracy: 0.8587\n",
      "Epoch 23/50\n",
      "250/250 [==============================] - 0s 1ms/step - loss: 0.3434 - accuracy: 0.8589\n",
      "Epoch 24/50\n",
      "250/250 [==============================] - 0s 931us/step - loss: 0.3428 - accuracy: 0.8609\n",
      "Epoch 25/50\n",
      "250/250 [==============================] - 0s 935us/step - loss: 0.3422 - accuracy: 0.8596\n",
      "Epoch 26/50\n",
      "250/250 [==============================] - 0s 1ms/step - loss: 0.3418 - accuracy: 0.8606\n",
      "Epoch 27/50\n",
      "250/250 [==============================] - 0s 899us/step - loss: 0.3414 - accuracy: 0.8602\n",
      "Epoch 28/50\n",
      "250/250 [==============================] - 0s 1ms/step - loss: 0.3408 - accuracy: 0.8606\n",
      "Epoch 29/50\n",
      "250/250 [==============================] - 0s 788us/step - loss: 0.3401 - accuracy: 0.8597\n",
      "Epoch 30/50\n",
      "250/250 [==============================] - 0s 780us/step - loss: 0.3399 - accuracy: 0.8595\n",
      "Epoch 31/50\n",
      "250/250 [==============================] - 0s 780us/step - loss: 0.3393 - accuracy: 0.8618\n",
      "Epoch 32/50\n",
      "250/250 [==============================] - 0s 1ms/step - loss: 0.3390 - accuracy: 0.8604\n",
      "Epoch 33/50\n",
      "250/250 [==============================] - 0s 796us/step - loss: 0.3390 - accuracy: 0.8619\n",
      "Epoch 34/50\n",
      "250/250 [==============================] - 0s 951us/step - loss: 0.3386 - accuracy: 0.8610\n",
      "Epoch 35/50\n",
      "250/250 [==============================] - 0s 919us/step - loss: 0.3380 - accuracy: 0.8612\n",
      "Epoch 36/50\n",
      "250/250 [==============================] - 0s 1ms/step - loss: 0.3376 - accuracy: 0.8618\n",
      "Epoch 37/50\n",
      "250/250 [==============================] - 0s 919us/step - loss: 0.3372 - accuracy: 0.8606\n",
      "Epoch 38/50\n",
      "250/250 [==============================] - 0s 1ms/step - loss: 0.3369 - accuracy: 0.8610\n",
      "Epoch 39/50\n",
      "250/250 [==============================] - 0s 796us/step - loss: 0.3368 - accuracy: 0.8618\n",
      "Epoch 40/50\n",
      "250/250 [==============================] - 0s 1ms/step - loss: 0.3368 - accuracy: 0.8622\n",
      "Epoch 41/50\n",
      "250/250 [==============================] - 0s 871us/step - loss: 0.3362 - accuracy: 0.8622\n",
      "Epoch 42/50\n",
      "250/250 [==============================] - 0s 1ms/step - loss: 0.3362 - accuracy: 0.8631\n",
      "Epoch 43/50\n",
      "250/250 [==============================] - 0s 851us/step - loss: 0.3356 - accuracy: 0.8634\n",
      "Epoch 44/50\n",
      "250/250 [==============================] - 0s 879us/step - loss: 0.3357 - accuracy: 0.8622\n",
      "Epoch 45/50\n",
      "250/250 [==============================] - 0s 843us/step - loss: 0.3353 - accuracy: 0.8622\n",
      "Epoch 46/50\n",
      "250/250 [==============================] - 0s 895us/step - loss: 0.3351 - accuracy: 0.8620\n",
      "Epoch 47/50\n",
      "250/250 [==============================] - 0s 807us/step - loss: 0.3351 - accuracy: 0.8627\n",
      "Epoch 48/50\n",
      "250/250 [==============================] - 0s 792us/step - loss: 0.3348 - accuracy: 0.8616\n",
      "Epoch 49/50\n",
      "250/250 [==============================] - 0s 804us/step - loss: 0.3346 - accuracy: 0.8621\n",
      "Epoch 50/50\n",
      "250/250 [==============================] - 0s 768us/step - loss: 0.3347 - accuracy: 0.8612\n"
     ]
    },
    {
     "data": {
      "text/plain": [
       "<tensorflow.python.keras.callbacks.History at 0x1874bd7c400>"
      ]
     },
     "execution_count": 19,
     "metadata": {},
     "output_type": "execute_result"
    }
   ],
   "source": [
    "#training on training set\n",
    "ann.fit(X_train, y_train, batch_size = 32, epochs = 50)"
   ]
  },
  {
   "cell_type": "code",
   "execution_count": 20,
   "metadata": {},
   "outputs": [
    {
     "name": "stdout",
     "output_type": "stream",
     "text": [
      "[[False]]\n"
     ]
    }
   ],
   "source": [
    "#customer to leave or not bank prediction using model\n",
    "print(ann.predict(sc.transform([[1, 0, 0, 600, 1, 40, 3, 60000, 2, 1, 1, 50000]])) > 0.5)"
   ]
  },
  {
   "cell_type": "code",
   "execution_count": 21,
   "metadata": {},
   "outputs": [
    {
     "name": "stdout",
     "output_type": "stream",
     "text": [
      "[[0 0]\n",
      " [0 1]\n",
      " [0 0]\n",
      " ...\n",
      " [0 0]\n",
      " [0 0]\n",
      " [0 0]]\n"
     ]
    }
   ],
   "source": [
    "#test set result\n",
    "y_pred = ann.predict(X_test)\n",
    "y_pred = (y_pred > 0.5)\n",
    "print(np.concatenate((y_pred.reshape(len(y_pred),1), y_test.reshape(len(y_test),1)),1))"
   ]
  },
  {
   "cell_type": "code",
   "execution_count": 22,
   "metadata": {},
   "outputs": [
    {
     "name": "stdout",
     "output_type": "stream",
     "text": [
      "[[1507   88]\n",
      " [ 195  210]]\n"
     ]
    },
    {
     "data": {
      "text/plain": [
       "0.8585"
      ]
     },
     "execution_count": 22,
     "metadata": {},
     "output_type": "execute_result"
    }
   ],
   "source": [
    "#confusion matrix of model preiction\n",
    "from sklearn.metrics import confusion_matrix, accuracy_score\n",
    "cm = confusion_matrix(y_test, y_pred)\n",
    "print(cm)\n",
    "accuracy_score(y_test, y_pred)"
   ]
  }
 ],
 "metadata": {
  "kernelspec": {
   "display_name": "Python 3",
   "language": "python",
   "name": "python3"
  },
  "language_info": {
   "codemirror_mode": {
    "name": "ipython",
    "version": 3
   },
   "file_extension": ".py",
   "mimetype": "text/x-python",
   "name": "python",
   "nbconvert_exporter": "python",
   "pygments_lexer": "ipython3",
   "version": "3.8.8"
  }
 },
 "nbformat": 4,
 "nbformat_minor": 4
}
